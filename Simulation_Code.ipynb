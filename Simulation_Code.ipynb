{
 "cells": [
  {
   "cell_type": "markdown",
   "metadata": {},
   "source": [
    "Simulation Code for Apendix B of \"Epistemology and Anomaly Dection in Astrobiology\"\n",
    "-------------\n",
    "\n",
    "The code below implements the simulation described in Appendix B of \"Episemology and Anomaly Detection in Astrobiology\". It takes approximately 70 minutes to run the simulation on a 2020 MacBook Pro. "
   ]
  },
  {
   "cell_type": "code",
   "execution_count": null,
   "metadata": {},
   "outputs": [],
   "source": [
    "#Import the necessary packages.\n",
    "import numpy as np\n",
    "import pandas as pd\n",
    "import seaborn as sns\n",
    "import matplotlib.pyplot as plt\n",
    "import tqdm\n",
    "from scipy.optimize import minimize\n",
    "from scipy.optimize import curve_fit"
   ]
  },
  {
   "cell_type": "code",
   "execution_count": 179,
   "metadata": {},
   "outputs": [
    {
     "name": "stderr",
     "output_type": "stream",
     "text": [
      "100%|██████████| 10/10 [1:18:09<00:00, 468.92s/it]\n"
     ]
    }
   ],
   "source": [
    "#Define empty arrays for x and y values.\n",
    "x_vals = []\n",
    "y_vals = []\n",
    "\n",
    "#Use a for-loop to iterate the simulation ten times for each value of x.\n",
    "for q in tqdm.tqdm(np.arange(0,10)):\n",
    "    \n",
    "#Use a for-loop to iterate the simulation for each value of x.\n",
    "    for x in np.arange(1,10.2,.2):\n",
    "        #Randomly sample from a Dirichlet distribution to generate the group of abundance vectors W_A.\n",
    "        group_A_param = [10 for i in range(0,100)]\n",
    "        group_A_param = np.append(group_A_param,[1 for i in range(0,900)])\n",
    "        group_A = np.random.dirichlet(group_A_param,(90,1))\n",
    "        \n",
    "        #Randomly sample from a Dirichlet distribution to generate the group of abundance vectors W_B.\n",
    "\n",
    "        group_B_param = [x for i in range(0,100)]\n",
    "        group_B_param = np.append(group_B_param,[1 for i in range(0,900)])\n",
    "        group_B = np.random.dirichlet(group_B_param,(10,1))\n",
    "        \n",
    "        #Combine the groups into a single array.\n",
    "\n",
    "        combined_groups = np.vstack((group_A, group_B))\n",
    "        \n",
    "        #Generate a matrix containing the Euclidean distance between each pair of abundance vectors in the full data set W.\n",
    "\n",
    "        distance_matrix=np.zeros((100,100))\n",
    "        for i in range(0,100):\n",
    "            distance_matrix[i] = [np.linalg.norm(combined_groups[i] - combined_groups[j]) for j in range(0,100)]\n",
    "            \n",
    "        #Find the minimum and average distance between any vector in W and its nearest neighbor, in order to calculate the shape paraemter sigma form W.\n",
    "\n",
    "        nearest_neighbor_distances = np.zeros(100)\n",
    "        for i in range(0,100):\n",
    "            nearest_neighbor_distances[i] = min(j for j in distance_matrix[i] if j>0)\n",
    "\n",
    "        min_distance = np.min(nearest_neighbor_distances)\n",
    "        avg_distance = np.mean(nearest_neighbor_distances)\n",
    "\n",
    "        sigma = -np.log(min_distance/avg_distance)/(avg_distance**2 - min_distance**2)\n",
    "        \n",
    "        #Computer the value of the weight parameter alpha for W. In principle, we would use constrained optimization to compute alpha, and code for doing \n",
    "        #so is included below, though commented out. In practice, alpha is always the uniform vector or something very close to uniform, and so for the sake of efficiency\n",
    "        #I have set alpha to the uniform vector below. \n",
    "\n",
    "        alpha = [1/100]*100\n",
    "\n",
    "        # def objective(alpha):\n",
    "        #     terms = np.array([np.array([alpha[j]*alpha[k]*np.exp(-(distance_matrix[j,k]**2)/sigma**2) for k in range(0,100)]) for j in range(0,100)])\n",
    "        #     summands = []\n",
    "        #     for j in range(0,100):\n",
    "        #         for k in range(0,100):\n",
    "        #             if j==k:\n",
    "        #                 summands = np.append(summands,[0])\n",
    "        #             if j!=k:\n",
    "        #                 summands = np.append(summands,[terms[j,k]])\n",
    "        #     return np.sum(summands)\n",
    "\n",
    "        # alpha0=np.zeros(100)\n",
    "\n",
    "        # def constraint(alpha):\n",
    "        #     return np.sum(alpha)-1\n",
    "\n",
    "        # b = (0,1)\n",
    "        # bnds = [b for i in range(0,100)]\n",
    "        # con1 = {'type': 'eq', 'fun': constraint}\n",
    "        # cons = [con1]\n",
    "\n",
    "        # solution = minimize(objective,alpha0,method='SLSQP',bounds=bnds,constraints=cons)\n",
    "        # alpha = solution.x\n",
    "        \n",
    "        \n",
    "        #Define the anomalousness function. \n",
    "\n",
    "        def anomalousness(i):\n",
    "            summands1 = []\n",
    "            for j in range(0,100):\n",
    "                    if j==i:\n",
    "                        summands1 = np.append(summands1,[0])\n",
    "                    if j!=i:\n",
    "                        summands1 = np.append(summands1,[alpha[j]*np.exp(-(distance_matrix[i,j]**2)/sigma**2)])\n",
    "            sum1 = np.sum(summands1)\n",
    "            summands2 = []\n",
    "            for j in range(0,100):\n",
    "                for k in range(0,100):\n",
    "                    if j==i:\n",
    "                        summands2 = np.append(summands2,[0])\n",
    "                    if k==i:\n",
    "                        summands2 = np.append(summands2,[0])\n",
    "                    else:\n",
    "                        summands2 = np.append(summands2,[alpha[j]*alpha[k]*np.exp(-(distance_matrix[j,k]**2)/sigma**2)])\n",
    "            sum2 = np.sum(summands2)\n",
    "            return 1 - 2*sum1 + sum2\n",
    "        \n",
    "        #Calculate anomalousness for each element of W.\n",
    "\n",
    "        anomalousness_measures = [anomalousness(i) for i in range(0,100)]\n",
    "        \n",
    "        #Identify the top ten most anomalous abundance vectors in W, and calculate the proportion that are elements of W_B.\n",
    "        \n",
    "        top_ten = np.argpartition(anomalousness_measures, -10)[-10:]\n",
    "        y = 0\n",
    "        for i in range(0,10):\n",
    "            if top_ten[i]>=90:\n",
    "                y=y+1\n",
    "            else:\n",
    "                y=y\n",
    "                \n",
    "        #Save the value of x and the proportion of top-ten anomalous vectors that are also elements of W_B.\n",
    "                \n",
    "        x_vals = np.append(x_vals,[x])\n",
    "        y_vals = np.append(y_vals,[y/10])"
   ]
  },
  {
   "cell_type": "code",
   "execution_count": 194,
   "metadata": {},
   "outputs": [],
   "source": [
    "#Post-simulation, save the set of x and y values obtained as .txt files.\n",
    "np.savetxt('xvals.txt',x_vals)\n",
    "np.savetxt('yvals.txt',y_vals)"
   ]
  },
  {
   "cell_type": "code",
   "execution_count": 228,
   "metadata": {},
   "outputs": [
    {
     "name": "stderr",
     "output_type": "stream",
     "text": [
      "/opt/anaconda3/lib/python3.8/site-packages/seaborn/_decorators.py:36: FutureWarning: Pass the following variables as keyword args: x, y. From version 0.12, the only valid positional argument will be `data`, and passing other arguments without an explicit keyword will result in an error or misinterpretation.\n",
      "  warnings.warn(\n"
     ]
    },
    {
     "data": {
      "image/png": "[encoded data removed]",
      "text/plain": [
       "<Figure size 432x288 with 1 Axes>"
      ]
     },
     "metadata": {
      "needs_background": "light"
     },
     "output_type": "display_data"
    }
   ],
   "source": [
    "#Generate a scatterplot showing the relationship between x and y in your simulation. \n",
    "df = pd.DataFrame({'xvalues': x_vals, 'yvalues': y_vals + .01*np.random.randn(460)})\n",
    "sns.scatterplot('xvalues', 'yvalues', data=df)\n",
    "plt.xlabel('Concentration Parameter x')\n",
    "plt.ylabel('Proportion of Top-Ten Anomalies in W_B')\n",
    "plt.savefig('sim_plot.png')"
   ]
  },
  {
   "cell_type": "code",
   "execution_count": null,
   "metadata": {},
   "outputs": [],
   "source": []
  }
 ],
 "metadata": {
  "kernelspec": {
   "display_name": "Python 3",
   "language": "python",
   "name": "python3"
  },
  "language_info": {
   "codemirror_mode": {
    "name": "ipython",
    "version": 3
   },
   "file_extension": ".py",
   "mimetype": "text/x-python",
   "name": "python",
   "nbconvert_exporter": "python",
   "pygments_lexer": "ipython3",
   "version": "3.8.5"
  }
 },
 "nbformat": 4,
 "nbformat_minor": 4
}
